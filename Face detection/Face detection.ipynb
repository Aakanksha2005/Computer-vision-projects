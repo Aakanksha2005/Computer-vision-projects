{
 "cells": [
  {
   "cell_type": "code",
   "execution_count": 1,
   "metadata": {},
   "outputs": [
    {
     "name": "stdout",
     "output_type": "stream",
     "text": [
      "e:\\Face detection\n",
      "['Aakanksha.jpg', 'Amma.jpg', 'Aswin.jpg', 'Athira.jpg', 'Face detection.ipynb', 'Jyoshna.jpg', 'Nanna.jpg', 'Subraja.jpg']\n"
     ]
    }
   ],
   "source": [
    "import os\n",
    "print(os.getcwd())  # This will print the current working directory\n",
    "print(os.listdir())  # This will print the contents of the current working directory"
   ]
  },
  {
   "cell_type": "code",
   "execution_count": 2,
   "metadata": {},
   "outputs": [],
   "source": [
    "\n",
    "import cv2\n",
    "import numpy as np\n",
    "import sys\n",
    "import os\n",
    "import face_recognition as fr"
   ]
  },
  {
   "cell_type": "code",
   "execution_count": 3,
   "metadata": {},
   "outputs": [
    {
     "name": "stdout",
     "output_type": "stream",
     "text": [
      "e:\\Face detection\n"
     ]
    }
   ],
   "source": [
    "import os\n",
    "print(os.getcwd())\n",
    "video_capture = cv2.VideoCapture(0)\n",
    "known_face_encodings = []\n",
    "known_face_names = []\n",
    "image1 = fr.load_image_file(\"Aakanksha.jpg\")\n",
    "image2 = fr.load_image_file(\"Amma.jpg\")\n",
    "image3 = fr.load_image_file(\"Nanna.jpg\")\n",
    "image4 = fr.load_image_file(\"Aswin.jpg\")\n",
    "image5 = fr.load_image_file(\"Subraja.jpg\")\n",
    "image6 = fr.load_image_file(\"Jyoshna.jpg\")\n",
    "image7 = fr.load_image_file(\"Athira.jpg\")\n",
    "face_encoding1 = fr.face_encodings(image1)[0]\n",
    "face_encoding2 = fr.face_encodings(image2)[0]\n",
    "face_encoding3 = fr.face_encodings(image3)[0]\n",
    "face_encoding4 = fr.face_encodings(image4)[0]\n",
    "face_encoding5 = fr.face_encodings(image5)[0]\n",
    "face_encoding6 = fr.face_encodings(image6)[0]\n",
    "face_encoding7 = fr.face_encodings(image7)[0]\n",
    "known_face_encodings = [face_encoding1, face_encoding2, face_encoding3, face_encoding4, face_encoding5, face_encoding6, face_encoding7]\n",
    "known_face_names = [\"Aakanksha\", \"Amma\", \"Nanna\", \"Aswin\", \"Subraja\", \"Jyoshna\", \"Athira\"]\n"
   ]
  },
  {
   "cell_type": "code",
   "execution_count": 4,
   "metadata": {},
   "outputs": [
    {
     "name": "stdout",
     "output_type": "stream",
     "text": [
      "[(201, 366, 387, 180)]\n",
      "[(201, 366, 387, 180)]\n",
      "[]\n",
      "[]\n",
      "[(201, 345, 387, 159)]\n",
      "[(201, 345, 387, 159)]\n",
      "[(201, 345, 387, 159)]\n",
      "[(201, 345, 387, 159)]\n",
      "[(201, 345, 387, 159)]\n",
      "[(201, 366, 387, 180)]\n",
      "[(201, 366, 387, 180)]\n",
      "[(201, 366, 387, 180)]\n",
      "[(201, 366, 387, 180)]\n",
      "[(180, 366, 366, 180)]\n",
      "[(160, 386, 345, 201)]\n",
      "[(160, 386, 345, 201)]\n",
      "[(160, 366, 345, 180)]\n",
      "[(160, 366, 345, 180)]\n",
      "[(160, 366, 345, 180)]\n",
      "[(167, 356, 322, 201)]\n",
      "[(167, 356, 322, 201)]\n",
      "[(167, 356, 322, 201)]\n",
      "[(167, 356, 322, 201)]\n",
      "[(167, 356, 322, 201)]\n",
      "[(150, 339, 305, 184)]\n",
      "[(167, 339, 322, 184)]\n",
      "[(167, 339, 322, 184)]\n",
      "[(167, 339, 322, 184)]\n",
      "[(167, 339, 322, 184)]\n",
      "[(167, 339, 322, 184)]\n",
      "[(167, 339, 322, 184)]\n",
      "[(167, 339, 322, 184)]\n",
      "[(167, 339, 322, 184)]\n",
      "[(167, 339, 322, 184)]\n",
      "[(167, 339, 322, 184)]\n",
      "[(167, 339, 322, 184)]\n",
      "[(167, 339, 322, 184)]\n"
     ]
    }
   ],
   "source": [
    "while True:\n",
    "    has_frame, image = video_capture.read()\n",
    "    flipped_image = cv2.flip(image, 1)\n",
    "    if not has_frame:\n",
    "        break\n",
    "    face_locations = fr.face_locations(flipped_image)\n",
    "    print(face_locations)\n",
    "    face_encodings = fr.face_encodings(flipped_image, face_locations)\n",
    "    for face_encoding in face_encodings:\n",
    "        matches = fr.compare_faces(known_face_encodings, face_encoding)\n",
    "        name = \"Unknown\"\n",
    "        if True in matches:\n",
    "            first_match_index = matches.index(True)\n",
    "            name = known_face_names[first_match_index]\n",
    "            top, right, bottom, left = face_locations[0]  # Define the variables here\n",
    "            cv2.rectangle(flipped_image, (left, top), (right, bottom), (0, 0, 255), 2)\n",
    "            # ... rest of your code for drawing rectangle and name\n",
    "        else:\n",
    "            # Handle the case where no faces are detected (optional)\n",
    "            print(\"No face detected in this frame\")\n",
    "        if True in matches:\n",
    "            first_match_index = matches.index(True)\n",
    "            name = known_face_names[first_match_index]\n",
    "        top, right, bottom, left = face_locations[0]  # Define the variables here\n",
    "        cv2.rectangle(flipped_image, (left, top), (right, bottom), (0, 0, 255), 2)\n",
    "        font = cv2.FONT_HERSHEY_DUPLEX\n",
    "        cv2.putText(flipped_image, name, (left + 6, bottom - 6), font, 1.0, (255, 255, 255), 1)\n",
    "    cv2.imshow('Video', flipped_image)\n",
    "    if cv2.waitKey(1) & 0xFF == ord('q'):\n",
    "        break\n",
    "video_capture.release()\n",
    "cv2.destroyAllWindows()\n"
   ]
  }
 ],
 "metadata": {
  "kernelspec": {
   "display_name": "base",
   "language": "python",
   "name": "python3"
  },
  "language_info": {
   "codemirror_mode": {
    "name": "ipython",
    "version": 3
   },
   "file_extension": ".py",
   "mimetype": "text/x-python",
   "name": "python",
   "nbconvert_exporter": "python",
   "pygments_lexer": "ipython3",
   "version": "3.11.7"
  }
 },
 "nbformat": 4,
 "nbformat_minor": 2
}
