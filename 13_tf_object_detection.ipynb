{
  "cells": [
    {
      "cell_type": "markdown",
      "metadata": {
        "id": "Knq9Dw6hfAaR"
      },
      "source": [
        "# Deep Learning based Object Detection\n",
        "**Satya Mallick, LearnOpenCV.com**\n",
        "\n",
        "1. **Architecture** : Mobilenet based Single Shot Multi-Box (SSD)\n",
        "2. **Framework** : Tensorflow"
      ]
    },
    {
      "cell_type": "code",
      "execution_count": 1,
      "metadata": {
        "ExecuteTime": {
          "end_time": "2023-03-29T19:35:05.703023Z",
          "start_time": "2023-03-29T19:35:05.080998Z"
        },
        "id": "MhJr_da7fAaa"
      },
      "outputs": [],
      "source": [
        "# Import libraries\n",
        "import os\n",
        "import cv2\n",
        "import numpy as np\n",
        "import matplotlib.pyplot as plt\n",
        "\n",
        "from zipfile import ZipFile\n",
        "from urllib.request import urlretrieve\n",
        "\n",
        "%matplotlib inline"
      ]
    },
    {
      "cell_type": "markdown",
      "metadata": {
        "id": "0lncPRjFfAa_"
      },
      "source": [
        "##  <font style=\"color:black\">Download Assets</font>"
      ]
    },
    {
      "cell_type": "code",
      "execution_count": 2,
      "metadata": {
        "ExecuteTime": {
          "end_time": "2023-03-29T19:35:05.719023Z",
          "start_time": "2023-03-29T19:35:05.706000Z"
        },
        "id": "Vywd4zhHfAbA"
      },
      "outputs": [],
      "source": [
        "def download_and_unzip(url, save_path):\n",
        "    print(f\"Downloading and extracting assests....\", end=\"\")\n",
        "\n",
        "    # Downloading zip file using urllib package.\n",
        "    urlretrieve(url, save_path)\n",
        "\n",
        "    try:\n",
        "        # Extracting zip file using the zipfile package.\n",
        "        with ZipFile(save_path) as z:\n",
        "            # Extract ZIP file contents in the same directory.\n",
        "            z.extractall(os.path.split(save_path)[0])\n",
        "\n",
        "        print(\"Done\")\n",
        "\n",
        "    except Exception as e:\n",
        "        print(\"\\nInvalid file.\", e)"
      ]
    },
    {
      "cell_type": "code",
      "execution_count": 3,
      "metadata": {
        "ExecuteTime": {
          "end_time": "2023-03-29T19:35:34.146062Z",
          "start_time": "2023-03-29T19:35:05.721995Z"
        },
        "id": "_gZb_ieLfAbB",
        "outputId": "885f2f39-2c16-4d0e-ae5f-6b0bd11940f9"
      },
      "outputs": [],
      "source": [
        "URL = r\"https://www.dropbox.com/s/xoomeq2ids9551y/opencv_bootcamp_assets_NB13.zip?dl=1\"\n",
        "\n",
        "asset_zip_path = os.path.join(os.getcwd(), \"opencv_bootcamp_assets_NB13.zip\")\n",
        "\n",
        "# Download if assest ZIP does not exists.\n",
        "if not os.path.exists(asset_zip_path):\n",
        "    download_and_unzip(URL, asset_zip_path)"
      ]
    },
    {
      "cell_type": "code",
      "execution_count": 4,
      "metadata": {
        "ExecuteTime": {
          "end_time": "2023-03-29T19:35:34.162058Z",
          "start_time": "2023-03-29T19:35:34.148063Z"
        },
        "id": "67LvmujGfAbE"
      },
      "outputs": [],
      "source": [
        "classFile  = \"coco_class_labels.txt\""
      ]
    },
    {
      "cell_type": "code",
      "execution_count": 5,
      "metadata": {
        "ExecuteTime": {
          "end_time": "2023-03-29T19:35:34.178066Z",
          "start_time": "2023-03-29T19:35:34.164061Z"
        },
        "id": "_aqYFhdffAbF",
        "outputId": "b865c0ee-0723-4df8-cef4-368c90fb1acd",
        "scrolled": true
      },
      "outputs": [
        {
          "name": "stdout",
          "output_type": "stream",
          "text": [
            "['unlabeled', 'person', 'bicycle', 'car', 'motorcycle', 'airplane', 'bus', 'train', 'truck', 'boat', 'traffic light', 'fire hydrant', 'street sign', 'stop sign', 'parking meter', 'bench', 'bird', 'cat', 'dog', 'horse', 'sheep', 'cow', 'elephant', 'bear', 'zebra', 'giraffe', 'hat', 'backpack', 'umbrella', 'shoe', 'eye glasses', 'handbag', 'tie', 'suitcase', 'frisbee', 'skis', 'snowboard', 'sports ball', 'kite', 'baseball bat', 'baseball glove', 'skateboard', 'surfboard', 'tennis racket', 'bottle', 'plate', 'wine glass', 'cup', 'fork', 'knife', 'spoon', 'bowl', 'banana', 'apple', 'sandwich', 'orange', 'broccoli', 'carrot', 'hot dog', 'pizza', 'donut', 'cake', 'chair', 'couch', 'potted plant', 'bed', 'mirror', 'dining table', 'window', 'desk', 'toilet', 'door', 'tv', 'laptop', 'mouse', 'remote', 'keyboard', 'cell phone', 'microwave', 'oven', 'toaster', 'sink', 'refrigerator', 'blender', 'book', 'clock', 'vase', 'scissors', 'teddy bear', 'hair drier', 'toothbrush', 'hair brush', '']\n"
          ]
        }
      ],
      "source": [
        "with open(classFile) as fp:\n",
        "    labels = fp.read().split(\"\\n\")\n",
        "\n",
        "print(labels)"
      ]
    },
    {
      "cell_type": "markdown",
      "metadata": {
        "id": "rA1k682wfAbI"
      },
      "source": [
        "# Read Tensorflow Model"
      ]
    },
    {
      "cell_type": "code",
      "execution_count": 6,
      "metadata": {
        "ExecuteTime": {
          "end_time": "2023-03-29T19:35:34.194060Z",
          "start_time": "2023-03-29T19:35:34.180067Z"
        },
        "id": "WUIFR5H9fAbI"
      },
      "outputs": [],
      "source": [
        "modelFile  = os.path.join(\"models\", \"ssd_mobilenet_v2_coco_2018_03_29\", \"frozen_inference_graph.pb\")\n",
        "configFile = os.path.join(\"models\", \"ssd_mobilenet_v2_coco_2018_03_29.pbtxt\")"
      ]
    },
    {
      "cell_type": "code",
      "execution_count": 7,
      "metadata": {
        "ExecuteTime": {
          "end_time": "2023-03-29T19:35:34.574058Z",
          "start_time": "2023-03-29T19:35:34.196063Z"
        },
        "id": "taCP5jdMfAbI"
      },
      "outputs": [],
      "source": [
        "# Read the Tensorflow network\n",
        "net = cv2.dnn.readNetFromTensorflow(modelFile, configFile)"
      ]
    },
    {
      "cell_type": "markdown",
      "metadata": {
        "id": "oNDgTEh0fAbK"
      },
      "source": [
        "# Detect Objects\n"
      ]
    },
    {
      "cell_type": "code",
      "execution_count": 8,
      "metadata": {
        "ExecuteTime": {
          "end_time": "2023-03-29T19:35:34.590064Z",
          "start_time": "2023-03-29T19:35:34.576065Z"
        },
        "id": "bBdmJ4XifAbK",
        "scrolled": false
      },
      "outputs": [],
      "source": [
        "# For ach file in the directory\n",
        "def detect_objects(net, im, dim = 300):\n",
        "\n",
        "    # Create a blob from the image\n",
        "    blob = cv2.dnn.blobFromImage(im, 1.0, size=(dim, dim), mean=(0, 0, 0), swapRB=True, crop=False)\n",
        "\n",
        "    # Pass blob to the network\n",
        "    net.setInput(blob)\n",
        "\n",
        "    # Peform Prediction\n",
        "    objects = net.forward()\n",
        "    return objects"
      ]
    },
    {
      "cell_type": "code",
      "execution_count": 9,
      "metadata": {
        "ExecuteTime": {
          "end_time": "2023-03-29T19:35:34.606060Z",
          "start_time": "2023-03-29T19:35:34.594063Z"
        },
        "id": "jIV9ubrSfAbL"
      },
      "outputs": [],
      "source": [
        "FONTFACE = cv2.FONT_HERSHEY_SIMPLEX\n",
        "FONT_SCALE = 0.7\n",
        "THICKNESS = 1"
      ]
    },
    {
      "cell_type": "code",
      "execution_count": 10,
      "metadata": {
        "ExecuteTime": {
          "end_time": "2023-03-29T19:35:34.622060Z",
          "start_time": "2023-03-29T19:35:34.608060Z"
        },
        "id": "dB-Q6eeVfAbL"
      },
      "outputs": [],
      "source": [
        "def display_text(im, text, x, y):\n",
        "    # Get text size\n",
        "    textSize = cv2.getTextSize(text, FONTFACE, FONT_SCALE, THICKNESS)\n",
        "    dim = textSize[0]\n",
        "    baseline = textSize[1]\n",
        "\n",
        "    # Use text size to create a black rectangle\n",
        "    cv2.rectangle(\n",
        "        im,\n",
        "        (x, y - dim[1] - baseline),\n",
        "        (x + dim[0], y + baseline),\n",
        "        (0, 0, 0),\n",
        "        cv2.FILLED,\n",
        "    )\n",
        "\n",
        "    # Display text inside the rectangle\n",
        "    cv2.putText(\n",
        "        im,\n",
        "        text,\n",
        "        (x, y - 5),\n",
        "        FONTFACE,\n",
        "        FONT_SCALE,\n",
        "        (0, 255, 255),\n",
        "        THICKNESS,\n",
        "        cv2.LINE_AA,\n",
        "    )"
      ]
    },
    {
      "cell_type": "markdown",
      "metadata": {
        "id": "FwUzewWcfAbN"
      },
      "source": [
        "# Display Objects"
      ]
    },
    {
      "cell_type": "code",
      "execution_count": 11,
      "metadata": {
        "ExecuteTime": {
          "end_time": "2023-03-29T19:35:34.638160Z",
          "start_time": "2023-03-29T19:35:34.624060Z"
        },
        "id": "n1o2BiD5fAbN"
      },
      "outputs": [],
      "source": [
        "def display_objects(im, objects, threshold=0.25):\n",
        "    rows = im.shape[0]\n",
        "    cols = im.shape[1]\n",
        "\n",
        "    # For every Detected Object\n",
        "    for i in range(objects.shape[2]):\n",
        "        # Find the class and confidence\n",
        "        classId = int(objects[0, 0, i, 1])\n",
        "        score = float(objects[0, 0, i, 2])\n",
        "\n",
        "        # Recover original cordinates from normalized coordinates\n",
        "        x = int(objects[0, 0, i, 3] * cols)\n",
        "        y = int(objects[0, 0, i, 4] * rows)\n",
        "        w = int(objects[0, 0, i, 5] * cols - x)\n",
        "        h = int(objects[0, 0, i, 6] * rows - y)\n",
        "\n",
        "        # Check if the detection is of good quality\n",
        "        if score > threshold:\n",
        "            display_text(im, \"{}\".format(labels[classId]), x, y)\n",
        "            cv2.rectangle(im, (x, y), (x + w, y + h), (255, 255, 255), 2)\n",
        "\n",
        "    # Read the video file\n",
        "    cv2.imshow(\"Video\", im)"
      ]
    },
    {
      "cell_type": "markdown",
      "metadata": {
        "id": "N5IbZkGxfAbP"
      },
      "source": [
        "# Results"
      ]
    },
    {
      "cell_type": "code",
      "execution_count": 12,
      "metadata": {
        "ExecuteTime": {
          "end_time": "2023-03-29T19:35:35.336158Z",
          "start_time": "2023-03-29T19:35:34.641167Z"
        },
        "id": "J19IMZtafAbb",
        "outputId": "c36e07b1-4c85-4eec-f589-cb3c1bd60d1f"
      },
      "outputs": [],
      "source": [
        "while True:\n",
        "    video_capture = cv2.VideoCapture(0)\n",
        "    has_frame, image = video_capture.read()\n",
        "    im = cv2.flip(image, 1)\n",
        "    objects = detect_objects(net, im)\n",
        "    if cv2.waitKey(1) & 0xFF == ord('q'):\n",
        "        break\n",
        "    display_objects(im, objects)\n",
        "video_capture.release()\n",
        "cv2.destroyAllWindows()\n"
      ]
    },
    {
      "cell_type": "markdown",
      "metadata": {
        "id": "qzuu38C5fAbc"
      },
      "source": [
        "# False Alarm"
      ]
    },
    {
      "cell_type": "markdown",
      "metadata": {
        "id": "iTaSpW2mfAbf"
      },
      "source": [
        "# Thank You!"
      ]
    }
  ],
  "metadata": {
    "celltoolbar": "Slideshow",
    "colab": {
      "provenance": []
    },
    "kernelspec": {
      "display_name": "Python 3 (ipykernel)",
      "language": "python",
      "name": "python3"
    },
    "language_info": {
      "codemirror_mode": {
        "name": "ipython",
        "version": 3
      },
      "file_extension": ".py",
      "mimetype": "text/x-python",
      "name": "python",
      "nbconvert_exporter": "python",
      "pygments_lexer": "ipython3",
      "version": "3.11.7"
    },
    "toc": {
      "base_numbering": 1,
      "nav_menu": {},
      "number_sections": false,
      "sideBar": true,
      "skip_h1_title": false,
      "title_cell": "Table of Contents",
      "title_sidebar": "Contents",
      "toc_cell": false,
      "toc_position": {
        "height": "calc(100% - 180px)",
        "left": "10px",
        "top": "150px",
        "width": "320px"
      },
      "toc_section_display": true,
      "toc_window_display": false
    },
    "varInspector": {
      "cols": {
        "lenName": 16,
        "lenType": 16,
        "lenVar": 40
      },
      "kernels_config": {
        "python": {
          "delete_cmd_postfix": "",
          "delete_cmd_prefix": "del ",
          "library": "var_list.py",
          "varRefreshCmd": "print(var_dic_list())"
        },
        "r": {
          "delete_cmd_postfix": ") ",
          "delete_cmd_prefix": "rm(",
          "library": "var_list.r",
          "varRefreshCmd": "cat(var_dic_list()) "
        }
      },
      "types_to_exclude": [
        "module",
        "function",
        "builtin_function_or_method",
        "instance",
        "_Feature"
      ],
      "window_display": false
    }
  },
  "nbformat": 4,
  "nbformat_minor": 0
}
